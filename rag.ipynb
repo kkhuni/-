{
 "cells": [
  {
   "cell_type": "code",
   "execution_count": 17,
   "id": "502e6a96-626c-4122-96ac-a6accb5779bc",
   "metadata": {
    "collapsed": true,
    "jupyter": {
     "outputs_hidden": true
    }
   },
   "outputs": [
    {
     "name": "stdout",
     "output_type": "stream",
     "text": [
      "Collecting langchain\n",
      "  Downloading langchain-0.3.24-py3-none-any.whl.metadata (7.8 kB)\n",
      "Collecting langchain-core<1.0.0,>=0.3.55 (from langchain)\n",
      "  Downloading langchain_core-0.3.56-py3-none-any.whl.metadata (5.9 kB)\n",
      "Collecting langchain-text-splitters<1.0.0,>=0.3.8 (from langchain)\n",
      "  Downloading langchain_text_splitters-0.3.8-py3-none-any.whl.metadata (1.9 kB)\n",
      "Collecting langsmith<0.4,>=0.1.17 (from langchain)\n",
      "  Downloading langsmith-0.3.38-py3-none-any.whl.metadata (15 kB)\n",
      "Requirement already satisfied: pydantic<3.0.0,>=2.7.4 in c:\\users\\pc2404\\anaconda3\\lib\\site-packages (from langchain) (2.8.2)\n",
      "Requirement already satisfied: SQLAlchemy<3,>=1.4 in c:\\users\\pc2404\\anaconda3\\lib\\site-packages (from langchain) (2.0.34)\n",
      "Requirement already satisfied: requests<3,>=2 in c:\\users\\pc2404\\anaconda3\\lib\\site-packages (from langchain) (2.32.3)\n",
      "Requirement already satisfied: PyYAML>=5.3 in c:\\users\\pc2404\\anaconda3\\lib\\site-packages (from langchain) (6.0.1)\n",
      "Requirement already satisfied: tenacity!=8.4.0,<10.0.0,>=8.1.0 in c:\\users\\pc2404\\anaconda3\\lib\\site-packages (from langchain-core<1.0.0,>=0.3.55->langchain) (8.2.3)\n",
      "Requirement already satisfied: jsonpatch<2.0,>=1.33 in c:\\users\\pc2404\\anaconda3\\lib\\site-packages (from langchain-core<1.0.0,>=0.3.55->langchain) (1.33)\n",
      "Requirement already satisfied: packaging<25,>=23.2 in c:\\users\\pc2404\\anaconda3\\lib\\site-packages (from langchain-core<1.0.0,>=0.3.55->langchain) (24.1)\n",
      "Requirement already satisfied: typing-extensions>=4.7 in c:\\users\\pc2404\\anaconda3\\lib\\site-packages (from langchain-core<1.0.0,>=0.3.55->langchain) (4.11.0)\n",
      "Requirement already satisfied: httpx<1,>=0.23.0 in c:\\users\\pc2404\\anaconda3\\lib\\site-packages (from langsmith<0.4,>=0.1.17->langchain) (0.27.0)\n",
      "Collecting orjson<4.0.0,>=3.9.14 (from langsmith<0.4,>=0.1.17->langchain)\n",
      "  Downloading orjson-3.10.18-cp312-cp312-win_amd64.whl.metadata (43 kB)\n",
      "Requirement already satisfied: requests-toolbelt<2.0.0,>=1.0.0 in c:\\users\\pc2404\\anaconda3\\lib\\site-packages (from langsmith<0.4,>=0.1.17->langchain) (1.0.0)\n",
      "Requirement already satisfied: zstandard<0.24.0,>=0.23.0 in c:\\users\\pc2404\\anaconda3\\lib\\site-packages (from langsmith<0.4,>=0.1.17->langchain) (0.23.0)\n",
      "Requirement already satisfied: annotated-types>=0.4.0 in c:\\users\\pc2404\\anaconda3\\lib\\site-packages (from pydantic<3.0.0,>=2.7.4->langchain) (0.6.0)\n",
      "Requirement already satisfied: pydantic-core==2.20.1 in c:\\users\\pc2404\\anaconda3\\lib\\site-packages (from pydantic<3.0.0,>=2.7.4->langchain) (2.20.1)\n",
      "Requirement already satisfied: charset-normalizer<4,>=2 in c:\\users\\pc2404\\anaconda3\\lib\\site-packages (from requests<3,>=2->langchain) (3.3.2)\n",
      "Requirement already satisfied: idna<4,>=2.5 in c:\\users\\pc2404\\anaconda3\\lib\\site-packages (from requests<3,>=2->langchain) (3.7)\n",
      "Requirement already satisfied: urllib3<3,>=1.21.1 in c:\\users\\pc2404\\anaconda3\\lib\\site-packages (from requests<3,>=2->langchain) (2.2.3)\n",
      "Requirement already satisfied: certifi>=2017.4.17 in c:\\users\\pc2404\\anaconda3\\lib\\site-packages (from requests<3,>=2->langchain) (2024.8.30)\n",
      "Requirement already satisfied: greenlet!=0.4.17 in c:\\users\\pc2404\\anaconda3\\lib\\site-packages (from SQLAlchemy<3,>=1.4->langchain) (3.2.1)\n",
      "Requirement already satisfied: anyio in c:\\users\\pc2404\\anaconda3\\lib\\site-packages (from httpx<1,>=0.23.0->langsmith<0.4,>=0.1.17->langchain) (4.2.0)\n",
      "Requirement already satisfied: httpcore==1.* in c:\\users\\pc2404\\anaconda3\\lib\\site-packages (from httpx<1,>=0.23.0->langsmith<0.4,>=0.1.17->langchain) (1.0.2)\n",
      "Requirement already satisfied: sniffio in c:\\users\\pc2404\\anaconda3\\lib\\site-packages (from httpx<1,>=0.23.0->langsmith<0.4,>=0.1.17->langchain) (1.3.0)\n",
      "Requirement already satisfied: h11<0.15,>=0.13 in c:\\users\\pc2404\\anaconda3\\lib\\site-packages (from httpcore==1.*->httpx<1,>=0.23.0->langsmith<0.4,>=0.1.17->langchain) (0.14.0)\n",
      "Requirement already satisfied: jsonpointer>=1.9 in c:\\users\\pc2404\\anaconda3\\lib\\site-packages (from jsonpatch<2.0,>=1.33->langchain-core<1.0.0,>=0.3.55->langchain) (2.1)\n",
      "Downloading langchain-0.3.24-py3-none-any.whl (1.0 MB)\n",
      "   ---------------------------------------- 0.0/1.0 MB ? eta -:--:--\n",
      "   ---------- ----------------------------- 0.3/1.0 MB ? eta -:--:--\n",
      "   ---------------------------------------- 1.0/1.0 MB 3.4 MB/s eta 0:00:00\n",
      "Downloading langchain_core-0.3.56-py3-none-any.whl (437 kB)\n",
      "Downloading langchain_text_splitters-0.3.8-py3-none-any.whl (32 kB)\n",
      "Downloading langsmith-0.3.38-py3-none-any.whl (359 kB)\n",
      "Downloading orjson-3.10.18-cp312-cp312-win_amd64.whl (134 kB)\n",
      "Installing collected packages: orjson, langsmith, langchain-core, langchain-text-splitters, langchain\n",
      "Successfully installed langchain-0.3.24 langchain-core-0.3.56 langchain-text-splitters-0.3.8 langsmith-0.3.38 orjson-3.10.18\n",
      "Note: you may need to restart the kernel to use updated packages.\n"
     ]
    }
   ],
   "source": [
    "pip install langchain"
   ]
  },
  {
   "cell_type": "code",
   "execution_count": 18,
   "id": "2a1c61bf-7ea0-49b9-8cdc-e2c647dee0d5",
   "metadata": {
    "collapsed": true,
    "jupyter": {
     "outputs_hidden": true
    }
   },
   "outputs": [
    {
     "name": "stdout",
     "output_type": "stream",
     "text": [
      "Collecting huggingface-hub\n",
      "  Downloading huggingface_hub-0.30.2-py3-none-any.whl.metadata (13 kB)\n",
      "Requirement already satisfied: filelock in c:\\users\\pc2404\\anaconda3\\lib\\site-packages (from huggingface-hub) (3.13.1)\n",
      "Requirement already satisfied: fsspec>=2023.5.0 in c:\\users\\pc2404\\anaconda3\\lib\\site-packages (from huggingface-hub) (2024.6.1)\n",
      "Requirement already satisfied: packaging>=20.9 in c:\\users\\pc2404\\anaconda3\\lib\\site-packages (from huggingface-hub) (24.1)\n",
      "Requirement already satisfied: pyyaml>=5.1 in c:\\users\\pc2404\\anaconda3\\lib\\site-packages (from huggingface-hub) (6.0.1)\n",
      "Requirement already satisfied: requests in c:\\users\\pc2404\\anaconda3\\lib\\site-packages (from huggingface-hub) (2.32.3)\n",
      "Requirement already satisfied: tqdm>=4.42.1 in c:\\users\\pc2404\\anaconda3\\lib\\site-packages (from huggingface-hub) (4.66.5)\n",
      "Requirement already satisfied: typing-extensions>=3.7.4.3 in c:\\users\\pc2404\\anaconda3\\lib\\site-packages (from huggingface-hub) (4.11.0)\n",
      "Requirement already satisfied: colorama in c:\\users\\pc2404\\anaconda3\\lib\\site-packages (from tqdm>=4.42.1->huggingface-hub) (0.4.6)\n",
      "Requirement already satisfied: charset-normalizer<4,>=2 in c:\\users\\pc2404\\anaconda3\\lib\\site-packages (from requests->huggingface-hub) (3.3.2)\n",
      "Requirement already satisfied: idna<4,>=2.5 in c:\\users\\pc2404\\anaconda3\\lib\\site-packages (from requests->huggingface-hub) (3.7)\n",
      "Requirement already satisfied: urllib3<3,>=1.21.1 in c:\\users\\pc2404\\anaconda3\\lib\\site-packages (from requests->huggingface-hub) (2.2.3)\n",
      "Requirement already satisfied: certifi>=2017.4.17 in c:\\users\\pc2404\\anaconda3\\lib\\site-packages (from requests->huggingface-hub) (2024.8.30)\n",
      "Downloading huggingface_hub-0.30.2-py3-none-any.whl (481 kB)\n",
      "Installing collected packages: huggingface-hub\n",
      "Successfully installed huggingface-hub-0.30.2\n",
      "Note: you may need to restart the kernel to use updated packages.\n"
     ]
    }
   ],
   "source": [
    "pip install huggingface-hub"
   ]
  },
  {
   "cell_type": "code",
   "execution_count": 19,
   "id": "c5e1e2dd-ad4c-4a55-b5a0-38e5a47ce488",
   "metadata": {
    "collapsed": true,
    "jupyter": {
     "outputs_hidden": true,
     "source_hidden": true
    },
    "scrolled": true
   },
   "outputs": [
    {
     "name": "stdout",
     "output_type": "stream",
     "text": [
      "Requirement already satisfied: streamlit in c:\\users\\pc2404\\anaconda3\\lib\\site-packages (1.37.1)\n",
      "Requirement already satisfied: altair<6,>=4.0 in c:\\users\\pc2404\\anaconda3\\lib\\site-packages (from streamlit) (5.0.1)\n",
      "Requirement already satisfied: blinker<2,>=1.0.0 in c:\\users\\pc2404\\anaconda3\\lib\\site-packages (from streamlit) (1.6.2)\n",
      "Requirement already satisfied: cachetools<6,>=4.0 in c:\\users\\pc2404\\anaconda3\\lib\\site-packages (from streamlit) (5.3.3)\n",
      "Requirement already satisfied: click<9,>=7.0 in c:\\users\\pc2404\\anaconda3\\lib\\site-packages (from streamlit) (8.1.7)\n",
      "Requirement already satisfied: numpy<3,>=1.20 in c:\\users\\pc2404\\anaconda3\\lib\\site-packages (from streamlit) (1.26.4)\n",
      "Requirement already satisfied: packaging<25,>=20 in c:\\users\\pc2404\\anaconda3\\lib\\site-packages (from streamlit) (24.1)\n",
      "Requirement already satisfied: pandas<3,>=1.3.0 in c:\\users\\pc2404\\anaconda3\\lib\\site-packages (from streamlit) (2.2.2)\n",
      "Requirement already satisfied: pillow<11,>=7.1.0 in c:\\users\\pc2404\\anaconda3\\lib\\site-packages (from streamlit) (10.4.0)\n",
      "Requirement already satisfied: protobuf<6,>=3.20 in c:\\users\\pc2404\\anaconda3\\lib\\site-packages (from streamlit) (4.25.3)\n",
      "Requirement already satisfied: pyarrow>=7.0 in c:\\users\\pc2404\\anaconda3\\lib\\site-packages (from streamlit) (16.1.0)\n",
      "Requirement already satisfied: requests<3,>=2.27 in c:\\users\\pc2404\\anaconda3\\lib\\site-packages (from streamlit) (2.32.3)\n",
      "Requirement already satisfied: rich<14,>=10.14.0 in c:\\users\\pc2404\\anaconda3\\lib\\site-packages (from streamlit) (13.7.1)\n",
      "Requirement already satisfied: tenacity<9,>=8.1.0 in c:\\users\\pc2404\\anaconda3\\lib\\site-packages (from streamlit) (8.2.3)\n",
      "Requirement already satisfied: toml<2,>=0.10.1 in c:\\users\\pc2404\\anaconda3\\lib\\site-packages (from streamlit) (0.10.2)\n",
      "Requirement already satisfied: typing-extensions<5,>=4.3.0 in c:\\users\\pc2404\\anaconda3\\lib\\site-packages (from streamlit) (4.11.0)\n",
      "Requirement already satisfied: gitpython!=3.1.19,<4,>=3.0.7 in c:\\users\\pc2404\\anaconda3\\lib\\site-packages (from streamlit) (3.1.43)\n",
      "Requirement already satisfied: pydeck<1,>=0.8.0b4 in c:\\users\\pc2404\\anaconda3\\lib\\site-packages (from streamlit) (0.8.0)\n",
      "Requirement already satisfied: tornado<7,>=6.0.3 in c:\\users\\pc2404\\anaconda3\\lib\\site-packages (from streamlit) (6.4.1)\n",
      "Requirement already satisfied: watchdog<5,>=2.1.5 in c:\\users\\pc2404\\anaconda3\\lib\\site-packages (from streamlit) (4.0.1)\n",
      "Requirement already satisfied: jinja2 in c:\\users\\pc2404\\anaconda3\\lib\\site-packages (from altair<6,>=4.0->streamlit) (3.1.4)\n",
      "Requirement already satisfied: jsonschema>=3.0 in c:\\users\\pc2404\\anaconda3\\lib\\site-packages (from altair<6,>=4.0->streamlit) (4.23.0)\n",
      "Requirement already satisfied: toolz in c:\\users\\pc2404\\anaconda3\\lib\\site-packages (from altair<6,>=4.0->streamlit) (0.12.0)\n",
      "Requirement already satisfied: colorama in c:\\users\\pc2404\\anaconda3\\lib\\site-packages (from click<9,>=7.0->streamlit) (0.4.6)\n",
      "Requirement already satisfied: gitdb<5,>=4.0.1 in c:\\users\\pc2404\\anaconda3\\lib\\site-packages (from gitpython!=3.1.19,<4,>=3.0.7->streamlit) (4.0.7)\n",
      "Requirement already satisfied: python-dateutil>=2.8.2 in c:\\users\\pc2404\\anaconda3\\lib\\site-packages (from pandas<3,>=1.3.0->streamlit) (2.9.0.post0)\n",
      "Requirement already satisfied: pytz>=2020.1 in c:\\users\\pc2404\\anaconda3\\lib\\site-packages (from pandas<3,>=1.3.0->streamlit) (2024.1)\n",
      "Requirement already satisfied: tzdata>=2022.7 in c:\\users\\pc2404\\anaconda3\\lib\\site-packages (from pandas<3,>=1.3.0->streamlit) (2023.3)\n",
      "Requirement already satisfied: charset-normalizer<4,>=2 in c:\\users\\pc2404\\anaconda3\\lib\\site-packages (from requests<3,>=2.27->streamlit) (3.3.2)\n",
      "Requirement already satisfied: idna<4,>=2.5 in c:\\users\\pc2404\\anaconda3\\lib\\site-packages (from requests<3,>=2.27->streamlit) (3.7)\n",
      "Requirement already satisfied: urllib3<3,>=1.21.1 in c:\\users\\pc2404\\anaconda3\\lib\\site-packages (from requests<3,>=2.27->streamlit) (2.2.3)\n",
      "Requirement already satisfied: certifi>=2017.4.17 in c:\\users\\pc2404\\anaconda3\\lib\\site-packages (from requests<3,>=2.27->streamlit) (2024.8.30)\n",
      "Requirement already satisfied: markdown-it-py>=2.2.0 in c:\\users\\pc2404\\anaconda3\\lib\\site-packages (from rich<14,>=10.14.0->streamlit) (2.2.0)\n",
      "Requirement already satisfied: pygments<3.0.0,>=2.13.0 in c:\\users\\pc2404\\anaconda3\\lib\\site-packages (from rich<14,>=10.14.0->streamlit) (2.15.1)\n",
      "Requirement already satisfied: smmap<5,>=3.0.1 in c:\\users\\pc2404\\anaconda3\\lib\\site-packages (from gitdb<5,>=4.0.1->gitpython!=3.1.19,<4,>=3.0.7->streamlit) (4.0.0)\n",
      "Requirement already satisfied: MarkupSafe>=2.0 in c:\\users\\pc2404\\anaconda3\\lib\\site-packages (from jinja2->altair<6,>=4.0->streamlit) (2.1.3)\n",
      "Requirement already satisfied: attrs>=22.2.0 in c:\\users\\pc2404\\anaconda3\\lib\\site-packages (from jsonschema>=3.0->altair<6,>=4.0->streamlit) (23.1.0)\n",
      "Requirement already satisfied: jsonschema-specifications>=2023.03.6 in c:\\users\\pc2404\\anaconda3\\lib\\site-packages (from jsonschema>=3.0->altair<6,>=4.0->streamlit) (2023.7.1)\n",
      "Requirement already satisfied: referencing>=0.28.4 in c:\\users\\pc2404\\anaconda3\\lib\\site-packages (from jsonschema>=3.0->altair<6,>=4.0->streamlit) (0.30.2)\n",
      "Requirement already satisfied: rpds-py>=0.7.1 in c:\\users\\pc2404\\anaconda3\\lib\\site-packages (from jsonschema>=3.0->altair<6,>=4.0->streamlit) (0.10.6)\n",
      "Requirement already satisfied: mdurl~=0.1 in c:\\users\\pc2404\\anaconda3\\lib\\site-packages (from markdown-it-py>=2.2.0->rich<14,>=10.14.0->streamlit) (0.1.0)\n",
      "Requirement already satisfied: six>=1.5 in c:\\users\\pc2404\\anaconda3\\lib\\site-packages (from python-dateutil>=2.8.2->pandas<3,>=1.3.0->streamlit) (1.16.0)\n",
      "Note: you may need to restart the kernel to use updated packages.\n"
     ]
    }
   ],
   "source": [
    "pip install streamlit"
   ]
  },
  {
   "cell_type": "code",
   "execution_count": 20,
   "id": "ce477fbe-24c7-40d1-a8c0-512ec6d1e388",
   "metadata": {
    "collapsed": true,
    "jupyter": {
     "outputs_hidden": true,
     "source_hidden": true
    },
    "scrolled": true
   },
   "outputs": [
    {
     "name": "stdout",
     "output_type": "stream",
     "text": [
      "Collecting openai\n",
      "  Downloading openai-1.76.2-py3-none-any.whl.metadata (25 kB)\n",
      "Requirement already satisfied: anyio<5,>=3.5.0 in c:\\users\\pc2404\\anaconda3\\lib\\site-packages (from openai) (4.2.0)\n",
      "Requirement already satisfied: distro<2,>=1.7.0 in c:\\users\\pc2404\\anaconda3\\lib\\site-packages (from openai) (1.9.0)\n",
      "Requirement already satisfied: httpx<1,>=0.23.0 in c:\\users\\pc2404\\anaconda3\\lib\\site-packages (from openai) (0.27.0)\n",
      "Collecting jiter<1,>=0.4.0 (from openai)\n",
      "  Downloading jiter-0.9.0-cp312-cp312-win_amd64.whl.metadata (5.3 kB)\n",
      "Requirement already satisfied: pydantic<3,>=1.9.0 in c:\\users\\pc2404\\anaconda3\\lib\\site-packages (from openai) (2.8.2)\n",
      "Requirement already satisfied: sniffio in c:\\users\\pc2404\\anaconda3\\lib\\site-packages (from openai) (1.3.0)\n",
      "Requirement already satisfied: tqdm>4 in c:\\users\\pc2404\\anaconda3\\lib\\site-packages (from openai) (4.66.5)\n",
      "Requirement already satisfied: typing-extensions<5,>=4.11 in c:\\users\\pc2404\\anaconda3\\lib\\site-packages (from openai) (4.11.0)\n",
      "Requirement already satisfied: idna>=2.8 in c:\\users\\pc2404\\anaconda3\\lib\\site-packages (from anyio<5,>=3.5.0->openai) (3.7)\n",
      "Requirement already satisfied: certifi in c:\\users\\pc2404\\anaconda3\\lib\\site-packages (from httpx<1,>=0.23.0->openai) (2024.8.30)\n",
      "Requirement already satisfied: httpcore==1.* in c:\\users\\pc2404\\anaconda3\\lib\\site-packages (from httpx<1,>=0.23.0->openai) (1.0.2)\n",
      "Requirement already satisfied: h11<0.15,>=0.13 in c:\\users\\pc2404\\anaconda3\\lib\\site-packages (from httpcore==1.*->httpx<1,>=0.23.0->openai) (0.14.0)\n",
      "Requirement already satisfied: annotated-types>=0.4.0 in c:\\users\\pc2404\\anaconda3\\lib\\site-packages (from pydantic<3,>=1.9.0->openai) (0.6.0)\n",
      "Requirement already satisfied: pydantic-core==2.20.1 in c:\\users\\pc2404\\anaconda3\\lib\\site-packages (from pydantic<3,>=1.9.0->openai) (2.20.1)\n",
      "Requirement already satisfied: colorama in c:\\users\\pc2404\\anaconda3\\lib\\site-packages (from tqdm>4->openai) (0.4.6)\n",
      "Downloading openai-1.76.2-py3-none-any.whl (661 kB)\n",
      "   ---------------------------------------- 0.0/661.3 kB ? eta -:--:--\n",
      "   --------------- ------------------------ 262.1/661.3 kB ? eta -:--:--\n",
      "   ---------------------------------------- 661.3/661.3 kB 4.3 MB/s eta 0:00:00\n",
      "Downloading jiter-0.9.0-cp312-cp312-win_amd64.whl (207 kB)\n",
      "Installing collected packages: jiter, openai\n",
      "Successfully installed jiter-0.9.0 openai-1.76.2\n",
      "Note: you may need to restart the kernel to use updated packages.\n"
     ]
    }
   ],
   "source": [
    "pip install openai"
   ]
  },
  {
   "cell_type": "code",
   "execution_count": 23,
   "id": "32f5f7c8-1770-4cb0-bce8-77c30fcc82b3",
   "metadata": {},
   "outputs": [
    {
     "data": {
      "text/plain": [
       "'카메라를 홍보하기 좋은 문구를 추천해줘?'"
      ]
     },
     "execution_count": 23,
     "metadata": {},
     "output_type": "execute_result"
    }
   ],
   "source": [
    "from langchain import PromptTemplate\n",
    "template = \"{product}를 홍보하기 좋은 문구를 추천해줘?\"\n",
    "\n",
    "prompt = PromptTemplate(\n",
    "    input_variables = [\"product\"],\n",
    "    template = template,\n",
    ")\n",
    "\n",
    "prompt.format(product=\"카메라\")"
   ]
  },
  {
   "cell_type": "code",
   "execution_count": null,
   "id": "151ea566-7f9f-44b7-8ecf-244195556760",
   "metadata": {},
   "outputs": [],
   "source": [
    "import os\n",
    "os.environ[\"OPENAI_API_KEY\"] = \"sk-\"\n",
    "\n",
    "from langchain.chat.models import ChatOpenAI\n",
    "\n",
    "llm1 = ChatOpenAI(temperature=0,\n",
    "                  model_name='gpt-4'\n",
    "                 )\n",
    "prompt = \"진희는 강아지를 키우고 있습니다. 진희가 키우고있는동물은?\"\n",
    "print(llm1.predict(prompt))\n"
   ]
  },
  {
   "cell_type": "code",
   "execution_count": 24,
   "id": "5f4e3805-e9d0-4d4c-80de-a6ad455c5982",
   "metadata": {
    "collapsed": true,
    "jupyter": {
     "outputs_hidden": true,
     "source_hidden": true
    },
    "scrolled": true
   },
   "outputs": [
    {
     "name": "stdout",
     "output_type": "stream",
     "text": [
      "Requirement already satisfied: langchain in c:\\users\\pc2404\\anaconda3\\lib\\site-packages (0.3.24)\n",
      "Collecting langchain-community\n",
      "  Downloading langchain_community-0.3.23-py3-none-any.whl.metadata (2.5 kB)\n",
      "Requirement already satisfied: langchain-core<1.0.0,>=0.3.55 in c:\\users\\pc2404\\anaconda3\\lib\\site-packages (from langchain) (0.3.56)\n",
      "Requirement already satisfied: langchain-text-splitters<1.0.0,>=0.3.8 in c:\\users\\pc2404\\anaconda3\\lib\\site-packages (from langchain) (0.3.8)\n",
      "Requirement already satisfied: langsmith<0.4,>=0.1.17 in c:\\users\\pc2404\\anaconda3\\lib\\site-packages (from langchain) (0.3.38)\n",
      "Requirement already satisfied: pydantic<3.0.0,>=2.7.4 in c:\\users\\pc2404\\anaconda3\\lib\\site-packages (from langchain) (2.8.2)\n",
      "Requirement already satisfied: SQLAlchemy<3,>=1.4 in c:\\users\\pc2404\\anaconda3\\lib\\site-packages (from langchain) (2.0.34)\n",
      "Requirement already satisfied: requests<3,>=2 in c:\\users\\pc2404\\anaconda3\\lib\\site-packages (from langchain) (2.32.3)\n",
      "Requirement already satisfied: PyYAML>=5.3 in c:\\users\\pc2404\\anaconda3\\lib\\site-packages (from langchain) (6.0.1)\n",
      "Requirement already satisfied: aiohttp<4.0.0,>=3.8.3 in c:\\users\\pc2404\\anaconda3\\lib\\site-packages (from langchain-community) (3.10.5)\n",
      "Requirement already satisfied: tenacity!=8.4.0,<10,>=8.1.0 in c:\\users\\pc2404\\anaconda3\\lib\\site-packages (from langchain-community) (8.2.3)\n",
      "Collecting dataclasses-json<0.7,>=0.5.7 (from langchain-community)\n",
      "  Using cached dataclasses_json-0.6.7-py3-none-any.whl.metadata (25 kB)\n",
      "Collecting pydantic-settings<3.0.0,>=2.4.0 (from langchain-community)\n",
      "  Downloading pydantic_settings-2.9.1-py3-none-any.whl.metadata (3.8 kB)\n",
      "Collecting httpx-sse<1.0.0,>=0.4.0 (from langchain-community)\n",
      "  Using cached httpx_sse-0.4.0-py3-none-any.whl.metadata (9.0 kB)\n",
      "Requirement already satisfied: numpy>=1.26.2 in c:\\users\\pc2404\\anaconda3\\lib\\site-packages (from langchain-community) (1.26.4)\n",
      "Requirement already satisfied: aiohappyeyeballs>=2.3.0 in c:\\users\\pc2404\\anaconda3\\lib\\site-packages (from aiohttp<4.0.0,>=3.8.3->langchain-community) (2.4.0)\n",
      "Requirement already satisfied: aiosignal>=1.1.2 in c:\\users\\pc2404\\anaconda3\\lib\\site-packages (from aiohttp<4.0.0,>=3.8.3->langchain-community) (1.2.0)\n",
      "Requirement already satisfied: attrs>=17.3.0 in c:\\users\\pc2404\\anaconda3\\lib\\site-packages (from aiohttp<4.0.0,>=3.8.3->langchain-community) (23.1.0)\n",
      "Requirement already satisfied: frozenlist>=1.1.1 in c:\\users\\pc2404\\anaconda3\\lib\\site-packages (from aiohttp<4.0.0,>=3.8.3->langchain-community) (1.4.0)\n",
      "Requirement already satisfied: multidict<7.0,>=4.5 in c:\\users\\pc2404\\anaconda3\\lib\\site-packages (from aiohttp<4.0.0,>=3.8.3->langchain-community) (6.0.4)\n",
      "Requirement already satisfied: yarl<2.0,>=1.0 in c:\\users\\pc2404\\anaconda3\\lib\\site-packages (from aiohttp<4.0.0,>=3.8.3->langchain-community) (1.11.0)\n",
      "Collecting marshmallow<4.0.0,>=3.18.0 (from dataclasses-json<0.7,>=0.5.7->langchain-community)\n",
      "  Using cached marshmallow-3.26.1-py3-none-any.whl.metadata (7.3 kB)\n",
      "Collecting typing-inspect<1,>=0.4.0 (from dataclasses-json<0.7,>=0.5.7->langchain-community)\n",
      "  Using cached typing_inspect-0.9.0-py3-none-any.whl.metadata (1.5 kB)\n",
      "Requirement already satisfied: jsonpatch<2.0,>=1.33 in c:\\users\\pc2404\\anaconda3\\lib\\site-packages (from langchain-core<1.0.0,>=0.3.55->langchain) (1.33)\n",
      "Requirement already satisfied: packaging<25,>=23.2 in c:\\users\\pc2404\\anaconda3\\lib\\site-packages (from langchain-core<1.0.0,>=0.3.55->langchain) (24.1)\n",
      "Requirement already satisfied: typing-extensions>=4.7 in c:\\users\\pc2404\\anaconda3\\lib\\site-packages (from langchain-core<1.0.0,>=0.3.55->langchain) (4.11.0)\n",
      "Requirement already satisfied: httpx<1,>=0.23.0 in c:\\users\\pc2404\\anaconda3\\lib\\site-packages (from langsmith<0.4,>=0.1.17->langchain) (0.27.0)\n",
      "Requirement already satisfied: orjson<4.0.0,>=3.9.14 in c:\\users\\pc2404\\anaconda3\\lib\\site-packages (from langsmith<0.4,>=0.1.17->langchain) (3.10.18)\n",
      "Requirement already satisfied: requests-toolbelt<2.0.0,>=1.0.0 in c:\\users\\pc2404\\anaconda3\\lib\\site-packages (from langsmith<0.4,>=0.1.17->langchain) (1.0.0)\n",
      "Requirement already satisfied: zstandard<0.24.0,>=0.23.0 in c:\\users\\pc2404\\anaconda3\\lib\\site-packages (from langsmith<0.4,>=0.1.17->langchain) (0.23.0)\n",
      "Requirement already satisfied: annotated-types>=0.4.0 in c:\\users\\pc2404\\anaconda3\\lib\\site-packages (from pydantic<3.0.0,>=2.7.4->langchain) (0.6.0)\n",
      "Requirement already satisfied: pydantic-core==2.20.1 in c:\\users\\pc2404\\anaconda3\\lib\\site-packages (from pydantic<3.0.0,>=2.7.4->langchain) (2.20.1)\n",
      "Requirement already satisfied: python-dotenv>=0.21.0 in c:\\users\\pc2404\\anaconda3\\lib\\site-packages (from pydantic-settings<3.0.0,>=2.4.0->langchain-community) (0.21.0)\n",
      "Collecting typing-inspection>=0.4.0 (from pydantic-settings<3.0.0,>=2.4.0->langchain-community)\n",
      "  Using cached typing_inspection-0.4.0-py3-none-any.whl.metadata (2.6 kB)\n",
      "Requirement already satisfied: charset-normalizer<4,>=2 in c:\\users\\pc2404\\anaconda3\\lib\\site-packages (from requests<3,>=2->langchain) (3.3.2)\n",
      "Requirement already satisfied: idna<4,>=2.5 in c:\\users\\pc2404\\anaconda3\\lib\\site-packages (from requests<3,>=2->langchain) (3.7)\n",
      "Requirement already satisfied: urllib3<3,>=1.21.1 in c:\\users\\pc2404\\anaconda3\\lib\\site-packages (from requests<3,>=2->langchain) (2.2.3)\n",
      "Requirement already satisfied: certifi>=2017.4.17 in c:\\users\\pc2404\\anaconda3\\lib\\site-packages (from requests<3,>=2->langchain) (2024.8.30)\n",
      "Requirement already satisfied: greenlet!=0.4.17 in c:\\users\\pc2404\\anaconda3\\lib\\site-packages (from SQLAlchemy<3,>=1.4->langchain) (3.2.1)\n",
      "Requirement already satisfied: anyio in c:\\users\\pc2404\\anaconda3\\lib\\site-packages (from httpx<1,>=0.23.0->langsmith<0.4,>=0.1.17->langchain) (4.2.0)\n",
      "Requirement already satisfied: httpcore==1.* in c:\\users\\pc2404\\anaconda3\\lib\\site-packages (from httpx<1,>=0.23.0->langsmith<0.4,>=0.1.17->langchain) (1.0.2)\n",
      "Requirement already satisfied: sniffio in c:\\users\\pc2404\\anaconda3\\lib\\site-packages (from httpx<1,>=0.23.0->langsmith<0.4,>=0.1.17->langchain) (1.3.0)\n",
      "Requirement already satisfied: h11<0.15,>=0.13 in c:\\users\\pc2404\\anaconda3\\lib\\site-packages (from httpcore==1.*->httpx<1,>=0.23.0->langsmith<0.4,>=0.1.17->langchain) (0.14.0)\n",
      "Requirement already satisfied: jsonpointer>=1.9 in c:\\users\\pc2404\\anaconda3\\lib\\site-packages (from jsonpatch<2.0,>=1.33->langchain-core<1.0.0,>=0.3.55->langchain) (2.1)\n",
      "Requirement already satisfied: mypy-extensions>=0.3.0 in c:\\users\\pc2404\\anaconda3\\lib\\site-packages (from typing-inspect<1,>=0.4.0->dataclasses-json<0.7,>=0.5.7->langchain-community) (1.0.0)\n",
      "Collecting typing-extensions>=4.7 (from langchain-core<1.0.0,>=0.3.55->langchain)\n",
      "  Using cached typing_extensions-4.13.2-py3-none-any.whl.metadata (3.0 kB)\n",
      "Downloading langchain_community-0.3.23-py3-none-any.whl (2.5 MB)\n",
      "   ---------------------------------------- 0.0/2.5 MB ? eta -:--:--\n",
      "   ---- ----------------------------------- 0.3/2.5 MB ? eta -:--:--\n",
      "   ----------------------------- ---------- 1.8/2.5 MB 5.9 MB/s eta 0:00:01\n",
      "   ---------------------------------------- 2.5/2.5 MB 6.6 MB/s eta 0:00:00\n",
      "Using cached dataclasses_json-0.6.7-py3-none-any.whl (28 kB)\n",
      "Using cached httpx_sse-0.4.0-py3-none-any.whl (7.8 kB)\n",
      "Downloading pydantic_settings-2.9.1-py3-none-any.whl (44 kB)\n",
      "Using cached marshmallow-3.26.1-py3-none-any.whl (50 kB)\n",
      "Using cached typing_inspect-0.9.0-py3-none-any.whl (8.8 kB)\n",
      "Using cached typing_inspection-0.4.0-py3-none-any.whl (14 kB)\n",
      "Using cached typing_extensions-4.13.2-py3-none-any.whl (45 kB)\n",
      "Installing collected packages: typing-extensions, marshmallow, httpx-sse, typing-inspection, typing-inspect, dataclasses-json, pydantic-settings, langchain-community\n",
      "  Attempting uninstall: typing-extensions\n",
      "    Found existing installation: typing_extensions 4.11.0\n",
      "    Uninstalling typing_extensions-4.11.0:\n",
      "      Successfully uninstalled typing_extensions-4.11.0\n",
      "Successfully installed dataclasses-json-0.6.7 httpx-sse-0.4.0 langchain-community-0.3.23 marshmallow-3.26.1 pydantic-settings-2.9.1 typing-extensions-4.13.2 typing-inspect-0.9.0 typing-inspection-0.4.0\n",
      "Note: you may need to restart the kernel to use updated packages.\n"
     ]
    }
   ],
   "source": [
    "pip install -U langchain langchain-community"
   ]
  },
  {
   "cell_type": "code",
   "execution_count": 31,
   "id": "9a5df62b-a96d-4cfa-a63b-551bdef6ef05",
   "metadata": {
    "collapsed": true,
    "jupyter": {
     "outputs_hidden": true,
     "source_hidden": true
    },
    "scrolled": true
   },
   "outputs": [
    {
     "name": "stdout",
     "output_type": "stream",
     "text": [
      "content='진희는 강아지를 키우고 있습니다.' additional_kwargs={} response_metadata={'model': 'gemma3:4b', 'created_at': '2025-04-30T04:35:57.680928Z', 'message': {'role': 'assistant', 'content': ''}, 'done_reason': 'stop', 'done': True, 'total_duration': 1012754300, 'load_duration': 53268100, 'prompt_eval_count': 31, 'prompt_eval_duration': 352000000, 'eval_count': 12, 'eval_duration': 605000000} id='run-e5388104-3c2b-44ae-9913-fbd3498a177b-0'\n"
     ]
    }
   ],
   "source": [
    "from langchain_community.chat_models import ChatOllama\n",
    "\n",
    "llm = ChatOllama(\n",
    "    model=\"gemma3:4b\",  # Ollama에서 실행 중인 모델 이름\n",
    "    temperature=0,\n",
    "    base_url=\"http://localhost:11434\"  # Ollama 기본 주소\n",
    ")\n",
    "\n",
    "prompt = \"진희는 강아지를 키우고 있습니다. 진희가 키우고있는동물은?\"\n",
    "print(llm.invoke(prompt))\n",
    "##오류발생\n",
    "#이 출력은 ChatOllama 모델을 사용해 .invoke() 또는 .predict()를 호출했을 때 **LangChain 내부 객체 (AIMessage)**의 출력 결과를 그대로 출력했기 때문입니다.\n",
    "#즉, print(llm.invoke(prompt))는 실제 모델의 응답 텍스트만 출력하는 것이 아니라, AIMessage라는 객체 전체를 출력하는 것이고, 그 안에는 다음과 같은 정보가 포함됩니다:"
   ]
  },
  {
   "cell_type": "code",
   "execution_count": null,
   "id": "23fac01b-468c-4919-8f71-ff442246f5f6",
   "metadata": {},
   "outputs": [],
   "source": [
    "from langchain_community.chat_models import ChatOllama\n",
    "\n",
    "llm = ChatOllama(\n",
    "    model=\"gemma3:4b\",  # Ollama에서 실행 중인 모델 이름\n",
    "    temperature=0,\n",
    "    base_url=\"http://localhost:11434\"  # Ollama 기본 주소\n",
    ")\n",
    "\n",
    "prompt = \"진희는 강아지를 키우고 있습니다. 진희가 키우고 있는 동물은 무엇인가요?\"\n",
    "response = llm.invoke(prompt)\n",
    "print(response.content)"
   ]
  },
  {
   "cell_type": "code",
   "execution_count": 33,
   "id": "51fab12f-5e7c-4da1-bd53-19aa34f13bb2",
   "metadata": {
    "collapsed": true,
    "jupyter": {
     "outputs_hidden": true,
     "source_hidden": true
    },
    "scrolled": true
   },
   "outputs": [
    {
     "name": "stdout",
     "output_type": "stream",
     "text": [
      "Collecting pypdf\n",
      "  Downloading pypdf-5.4.0-py3-none-any.whl.metadata (7.3 kB)\n",
      "Downloading pypdf-5.4.0-py3-none-any.whl (302 kB)\n",
      "Installing collected packages: pypdf\n",
      "Successfully installed pypdf-5.4.0\n",
      "Note: you may need to restart the kernel to use updated packages.\n"
     ]
    }
   ],
   "source": [
    "pip install pypdf\n"
   ]
  },
  {
   "cell_type": "code",
   "execution_count": 40,
   "id": "923eea27-d45d-4820-8a4c-07319cd82859",
   "metadata": {
    "scrolled": true
   },
   "outputs": [
    {
     "name": "stdout",
     "output_type": "stream",
     "text": [
      "[-0.012751313857734203, 0.07664144039154053, 0.07837937027215958, -0.020059240981936455, -0.01272888295352459, -0.07116591185331345, 0.10280516743659973, 0.04765685647726059, 0.006903921719640493, -0.053169868886470795, 0.10811042040586472, -0.00571857113391161, 0.10678742825984955, -0.05620326101779938, 0.02280721440911293, -0.11198221892118454, 0.04466405510902405, 0.04313597083091736, -0.11946550756692886, -0.03391318768262863, 0.06016739830374718, -0.013709207996726036, 0.0472107008099556, 0.03626057133078575, -0.07865158468484879, -0.025089936330914497, -0.008197958581149578, -0.005761117208749056, 0.03240002319216728, 0.01853453554213047, -0.01591520942747593, 0.06763875484466553, 0.017367195338010788, 0.010568298399448395, -0.0905100405216217, 0.016707729548215866, -0.05098994821310043, -0.02909001335501671, -0.01313523855060339, 0.05885588005185127, -0.17764300107955933, -0.10141953825950623, 0.036344245076179504, -0.10633619129657745, 0.10030747205018997, 0.015501507557928562, -0.06829331070184708, -0.0850176215171814, -0.07707303017377853, 0.03387805446982384, -0.13020554184913635, -0.04137498885393143, 0.05357794463634491, -0.0948309600353241, 0.016522347927093506, 0.019554749131202698, -0.061995506286621094, 0.002027673413977027, 0.019395016133785248, 0.05999796465039253, 0.02675321139395237, 0.0242275632917881, -0.031987641006708145, 0.08332949131727219, 0.03647879138588905, 0.02117231860756874, -0.007424485869705677, -0.005390962120145559, 0.040167007595300674, -0.0364290289580822, 0.0571373887360096, 0.000566953734960407, 0.0583292581140995, 0.02226707898080349, -0.08522363007068634, -0.05097934231162071, -0.026714537292718887, -0.00347593380138278, -0.008994543924927711, 0.02501940354704857, 0.013680818490684032, 0.07413606345653534, 0.004742107819765806, 0.04307125508785248, -0.04767310991883278, -0.0051215216517448425, -0.013104917481541634, -0.0022872674744576216, -0.0812297835946083, 0.059167686849832535, 0.033598192036151886, 0.12198930233716965, -0.059329401701688766, 0.038686543703079224, -0.11446845531463623, 0.015248151496052742, -0.03136494383215904, -0.0275168027728796, -0.008815756998956203, 0.04505178704857826, 0.0046186139807105064, 0.05563584715127945, 0.038744088262319565, 0.07619570940732956, -0.07578831911087036, -0.06901590526103973, 0.02298179268836975, -0.09503532201051712, 0.04239445552229881, 0.0036650977563112974, -0.053020112216472626, -0.11018933355808258, -0.1009637638926506, -0.09563469141721725, 0.021496469154953957, -0.007131360005587339, -0.008613881655037403, -0.04243738204240799, -0.005179897882044315, 0.011610581539571285, 0.06600108742713928, 0.019768578931689262, -0.046159014105796814, -0.06431987136602402, -0.042195580899715424, -0.08693187683820724, 0.0776580348610878, 8.120278975965868e-33, -0.0897768884897232, 0.008146953769028187, 0.053336963057518005, -0.012248477898538113, -0.04657547175884247, -0.014044695533812046, -0.028030656278133392, -0.013024820946156979, -0.020394504070281982, 0.009023106656968594, 0.001587536884471774, -0.017665961757302284, -0.14191804826259613, 0.003267587162554264, 0.054172296077013016, 0.028261326253414154, -0.008444691076874733, 0.02087671495974064, -0.015556366182863712, 0.08802943676710129, 0.008127245120704174, 0.0013834330020472407, 0.04264606907963753, -0.0718514695763588, -0.025367334485054016, -0.00422066543251276, 0.03022512048482895, -0.04996505752205849, -0.04388052970170975, 0.04442843422293663, 0.05970590561628342, -0.05071815848350525, -0.020231924951076508, -0.03987728804349899, -0.09351875633001328, -0.07470452040433884, -0.018475933000445366, -0.007338760886341333, 0.05503440648317337, 0.01340093556791544, -0.02872985415160656, -0.014611025340855122, -0.01666507124900818, 0.04265531897544861, -0.00843638926744461, 0.13672351837158203, 0.032963987439870834, -0.016066154465079308, -0.009213019162416458, -0.0019390634261071682, -0.04573792219161987, 0.03866856172680855, 0.003282424993813038, -0.0002307313698111102, 0.05047336965799332, 0.05092770978808403, 0.10240283608436584, -0.028360003605484962, -0.0857495591044426, -0.002181987278163433, -0.045582015067338943, 0.04013863578438759, -0.0033379732631146908, -0.005222289357334375, 0.048367492854595184, -0.01331475842744112, -0.03261791169643402, -0.02530333586037159, 0.07930372655391693, -0.06427712738513947, -0.0214143805205822, -0.020426122471690178, -0.03128225728869438, 0.08967617899179459, -0.0868675634264946, -0.044842589646577835, -0.053072646260261536, -0.010879795998334885, 0.008028392679989338, 0.06554119288921356, -0.036160681396722794, 0.0030771743040531874, -0.0010149923618882895, -0.12148872762918472, 0.066644586622715, 0.042028725147247314, 0.05642004683613777, -0.040347255766391754, 0.05181727558374405, 0.09560780972242355, -0.006633639335632324, -0.010348917916417122, -0.0028274357318878174, 0.0019358501303941011, -0.0031977377366274595, -1.191101462786552e-32, 0.04835103824734688, 0.059880875051021576, -0.06523466855287552, 0.06822951138019562, 0.037671416997909546, -0.00501682935282588, -0.035146985203027725, 0.014823595061898232, 0.04673205688595772, 0.0581635981798172, -0.010638815350830555, -0.023154858499765396, 0.003712036879733205, 0.0283732321113348, -0.018741445615887642, 0.0339372381567955, -0.01304357685148716, 0.04504110664129257, -0.04787378013134003, 0.06954263895750046, -0.03804972022771835, -0.023552607744932175, -0.036301322281360626, 0.039663106203079224, -0.06173892319202423, -0.013101916760206223, 0.0385296605527401, 0.014972427859902382, -0.04181879758834839, -0.038947127759456635, 0.015054124407470226, -0.08288389444351196, 0.005954683758318424, 0.05711787939071655, 0.07067402452230453, -0.10880815237760544, -0.02430683933198452, -0.07367365807294846, -0.0017146755708381534, -0.017795629799365997, -0.008909867145121098, -0.02968199923634529, 0.06322170048952103, -0.059650398790836334, -0.0049017951823771, -0.029815230518579483, -0.06137234345078468, -0.0535774864256382, -0.012205284088850021, -0.09262578189373016, 0.09813468903303146, 0.02295611798763275, -0.023561621084809303, -0.06762869656085968, 0.07830678671598434, 0.006548770237714052, 0.027998561039566994, 0.011988329701125622, -0.03202780336141586, -0.0068548815324902534, 0.0037594588939100504, -0.0378786064684391, -0.011490519158542156, 0.06153053790330887, -0.03749991953372955, 0.03330961987376213, 0.029299994930624962, -0.03507960960268974, 0.009023604914546013, -0.01611720770597458, 0.09265920519828796, 0.029687704518437386, 0.06770716607570648, 0.025633087381720543, -0.12444796413183212, -0.009960620664060116, -0.02701042965054512, 0.005249230191111565, 0.024112284183502197, -0.04005802795290947, -0.04249715432524681, 0.03566514700651169, 0.00512703787535429, -0.04350278154015541, -0.08895619958639145, -0.08133072406053543, -0.030267953872680664, 0.03328999504446983, -0.04004426300525665, -0.052030060440301895, -0.01795799471437931, 0.08522505313158035, -0.011495004408061504, 0.016746586188673973, 0.01866607926785946, -5.666710833907018e-08, -0.018485279753804207, -0.14404839277267456, 0.007741971872746944, -0.004703884944319725, 0.05033005401492119, -0.02691005729138851, 0.04357586428523064, -0.0020262496545910835, -0.015083015896379948, -0.04825271666049957, 0.061741698533296585, 0.020268287509679794, -0.08796515315771103, 0.0767626240849495, -0.03259682282805443, -0.06763693690299988, 0.06744461506605148, 0.11439358443021774, 0.019371939823031425, -0.01518188789486885, 0.06666131317615509, -0.0383199118077755, -0.07417334616184235, -0.022582311183214188, -0.0066687860526144505, 0.05086671933531761, -0.03627430647611618, 0.00939847994595766, 0.012239955365657806, -0.058439891785383224, 0.01597883366048336, -0.04876144230365753, 0.027689795941114426, -0.016786670312285423, 0.006258499342948198, 0.03517640009522438, -0.022147543728351593, 0.02507481537759304, -0.04598160460591316, 0.0021174040157347918, -0.005026781931519508, -0.058283716440200806, 0.058824703097343445, 0.0005820578662678599, 0.05299488827586174, -0.02243838831782341, 0.05680801346898079, -0.03531787544488907, -0.0009651545551605523, 0.05036062374711037, -0.035281307995319366, -0.001971975201740861, 0.04366379603743553, -0.0288249384611845, 0.04298101365566254, 0.05989138036966324, 0.021584484726190567, 0.04214257001876831, 0.017875853925943375, 0.023324089124798775, 0.006068479269742966, 0.032751187682151794, 0.006518346257507801, -0.01787104457616806]\n"
     ]
    }
   ],
   "source": [
    "from langchain_huggingface import HuggingFaceEmbeddings\n",
    "\n",
    "embedding = HuggingFaceEmbeddings(\n",
    "    model_name=\"sentence-transformers/all-MiniLM-L6-v2\"\n",
    ")\n",
    "\n",
    "text = \"진희는 강아지를 키우고 있습니다.\"\n",
    "text_embedding = embedding.embed_query(text)\n",
    "\n",
    "print(text_embedding)\n"
   ]
  },
  {
   "cell_type": "code",
   "execution_count": 52,
   "id": "58749738-4983-441d-8556-0b3a451a096a",
   "metadata": {
    "scrolled": true
   },
   "outputs": [
    {
     "name": "stdout",
     "output_type": "stream",
     "text": [
      "ing rate. Here, we initially apply Voice Activity\n",
      "Detection (VAD) to eliminate silent segments at\n",
      "both ends. Subsequently, we calculate the syllables\n",
      "per second (SPS), which is then rounded to the\n",
      "nearest integer to serve as the fine-grained speed\n",
      "value token. Using the 5th, 20th, 80th, and 95th\n",
      "percentiles, we establish boundaries for five dis-\n",
      "tinct speed levels: very slow, slow, moderate, fast,\n",
      "and very fast (detailed in Appendix E.1).\n",
      "Data Cleaning For datasets exhibiting lower text\n",
      "quality, we conduct an additional cleaning process.\n",
      "Specifically, for Emilia (He et al., 2024), the orig-\n",
      "inal transcripts were obtained using the Whisper-\n",
      "based (ASR) system (Radford et al., 2023), em-\n",
      "ploying the whisper-medium model, which occa-\n",
      "sionally resulted in inaccuracies. To address this,\n",
      "we employ another ASR model, FunASR (Gao\n",
      "et al., 2023)4, to re-recognize the audio. We then\n",
      "use the original scripts as ground truth to calculate\n",
      "the Word Error Rate (WER) and excluded samples\n",
      "with a WER exceeding 0.05. For the MLS-English,\n",
      "LibriSpeech, LibriTTS-R, and datasets originally\n",
      "designed for emotion recognition, we employ the\n",
      "whisper-large-v35 model for speech recognition,\n",
      "comparing the recognition results with the original\n",
      "scripts. Samples exhibiting insertions or deletions\n",
      "are excluded from the dataset.\n",
      "6\n",
      "Experiments\n",
      "6.1\n",
      "Implementation Details\n",
      "BiCodec is trained on the full training set of the\n",
      "LibriSpeech dataset, comprising 960 hours of En-\n",
      "glish speech data. Additionally, we include 1,000\n",
      "hours of speech data from both Emilia-CN and\n",
      "Emilia-EN, bringing the total training data to ap-\n",
      "proximately 3,000 hours. All audio samples are\n",
      "resampled to 16 kHz. The global token length is\n",
      "set as 32. For optimization, we use the AdamW\n",
      "optimizer with moving average coefficients coef-\n",
      "ficients β1 = 0.8 and β2 = 0.9. The model con-\n",
      "verges within approximately 800k training steps\n",
      "using a batch size with 614.4 seconds of speech.\n",
      "The Spark-TTS language model is trained us-\n",
      "ing the entire VoxBox training set. If a dataset\n",
      "lacks predefined train/test splits, we use the entire\n",
      "processed dataset for training. The training em-\n",
      "ploys the AdamW optimizer with β1 = 0.9 and\n",
      "β2 = 0.96. The model undergoes training over 3\n",
      "4ZH: https://huggingface.co/funasr/paraformer-zh\n",
      "EN: https://huggingface.co/FunAudioLLM/SenseVoiceSmall\n",
      "5https://huggingface.co/openai/whisper-large-v3\n",
      "epochs, using a batch size of 768 samples.\n",
      "6.2\n",
      "Reconstruction Performance of BiCodec\n",
      "Comparsion with Other Methods The reconstruc-\n",
      "tion performance of BiCodec compared to other\n",
      "methods is presented in Table 1. As can be seen,\n",
      "within the low-bitrate range (<1 kbps), BiCodec\n",
      "surpasses all methods on most metrics, except for\n",
      "UTMOS, where it ranks second to StableCodec,\n",
      "and SIM, where it ranks second to X-Codec2,\n",
      "thereby achieving a new state-of-the-art (SOTA)\n",
      "performance.\n",
      "Notably, BiCodec’s semantic tokens are ex-\n",
      "tracted from wav2vec 2.0 rather than raw audio,\n",
      "resulting in stronger semantic alignment compared\n",
      "to codecs that directly process waveform-based\n",
      "representations. Further experimental results and\n",
      "analyses are provided in Appendix A.3.\n",
      "Effectiveness of Global Tokenizer We first eval-\n",
      "uate the optimal length for the global token se-\n",
      "quence. As shown in Table 2, we compare the\n",
      "impact of different sequence lengths on reconstruc-\n",
      "tion quality. The results without FSQ quantization\n",
      "serve as a benchmark reference. Notably, increas-\n",
      "ing the global token sequence length consistently\n",
      "improves reconstruction quality, with performance\n",
      "approaching the benchmark at the length of 32.\n",
      "Furthermore, Table 2 compares our proposed\n",
      "quantization method—which incorporates learn-\n",
      "able queries and FSQ—against the GVQ-based\n",
      "method introduced by Ren et al. (Ren et al., 2024)\n",
      "for time-invariant codes. Our approach demon-\n",
      "strates a substantial performance improvement over\n",
      "the GVQ-based method, highlighting the effective-\n",
      "ness of FSQ with learnable queries in enhancing\n",
      "global token representation.\n",
      "6.3\n",
      "Control Capabilities of Spark-TTS\n",
      "Spark-TTS enables controllable generation by in-\n",
      "putting attribute labels or fine-grained attribute val-\n",
      "ues. In label-based control, the model automati-\n",
      "cally generates the corresponding attribute values\n",
      "(e.g., pitch and speed). However, when these val-\n",
      "ues are manually specified, the system switches to\n",
      "fine-grained control.\n",
      "Gender To assess Spark-TTS’s capability in gen-\n",
      "der control, we compare it with textual prompt-\n",
      "based controllable TTS models, including VoxIn-\n",
      "struct(Zhou et al., 2024b) and Parler-TTS(Lyth and\n",
      "King, 2024). For evaluation, we reorganize the\n",
      "test prompts of real speech from PromptTTS (Guo\n",
      "et al., 2023) based on the prompt structures used in\n"
     ]
    }
   ],
   "source": [
    "from langchain.document_loaders import PyMuPDFLoader\n",
    "\n",
    "loader = PyMuPDFLoader(r'C:\\Users\\PC2404\\Desktop\\llm 논문\\2503.01710v1.pdf')\n",
    "documents = loader.load()\n",
    "\n",
    "print(documents[5].page_content[:50000])\n"
   ]
  },
  {
   "cell_type": "code",
   "execution_count": 58,
   "id": "b07458df-9c14-4905-8e58-80de8206ae84",
   "metadata": {
    "scrolled": true
   },
   "outputs": [
    {
     "name": "stdout",
     "output_type": "stream",
     "text": [
      "[답변]\n",
      "\n",
      "\n",
      "[참고한 문서 일부]\n",
      "\n",
      "- 문서 1 (페이지 16):\n",
      "\n",
      "Table 9: Reconstruction performance on various datasets: Data-P comprises low-quality Chinese recordings made\n",
      "by internal staff using mobile phones; Data-S consists of expressive Chinese data recorded in a professional studio;\n",
      "and Data-M is a multilingual dataset collected from in-the-wild sources.\n",
      "\n",
      "\n",
      "- 문서 2 (페이지 7):\n",
      "\n",
      "400\n",
      "450\n",
      "500\n",
      "Pitch Value of Generated Speech (Mel)\n",
      "(b) Pitch for Female\n",
      "1\n",
      "2\n",
      "3\n",
      "4\n",
      "5\n",
      "6\n",
      "7\n",
      "8\n",
      "Speed Value in Control (SPS)\n",
      "2\n",
      "3\n",
      "4\n",
      "5\n",
      "6\n",
      "7\n",
      "8\n",
      "Speed Value of Generated Speech (SPS)\n",
      "(c) Speed for English\n",
      "1\n",
      "2\n",
      "3\n",
      "4\n",
      "5\n",
      "6\n",
      "7\n",
      "8\n",
      "Speed Value in Control (SPS)\n",
      "2\n",
      "3\n",
      "4\n",
      "5\n",
      "6\n",
      "7\n",
      "8\n",
      "Speed Value of Generated Speech (SPS)\n",
      "(d) Speed for\n"
     ]
    }
   ],
   "source": [
    "# 패키지 설치\n",
    "# !pip install langchain langchain-community langchainhub faiss-cpu pymupdf\n",
    "from langchain_ollama import OllamaLLM\n",
    "from langchain_community.llms import Ollama\n",
    "from langchain.document_loaders import PyMuPDFLoader\n",
    "from langchain.text_splitter import RecursiveCharacterTextSplitter\n",
    "from langchain.vectorstores import FAISS\n",
    "from langchain_huggingface import HuggingFaceEmbeddings\n",
    "from langchain.chains import RetrievalQA\n",
    "\n",
    "# 1. PDF 로드 및 분할\n",
    "loader = PyMuPDFLoader(r\"C:\\Users\\PC2404\\Desktop\\llm 논문\\2503.01710v1.pdf\")\n",
    "documents = loader.load()\n",
    "\n",
    "text_splitter = RecursiveCharacterTextSplitter(\n",
    "    chunk_size=500,\n",
    "    chunk_overlap=50,\n",
    ")\n",
    "docs = text_splitter.split_documents(documents)\n",
    "\n",
    "# 2. HuggingFace 임베딩 모델 로드\n",
    "embedding_model = HuggingFaceEmbeddings(\n",
    "    model_name=\"sentence-transformers/all-MiniLM-L6-v2\"\n",
    ")\n",
    "\n",
    "# 3. 벡터 저장소 (FAISS) 구축\n",
    "vectorstore = FAISS.from_documents(docs, embedding_model)\n",
    "\n",
    "# 4. 로컬 Ollama 모델 로드 (gemma3:4b)\n",
    "llm = Ollama(model=\"gemma3:4b\")\n",
    "\n",
    "# 5. Retrieval QA 체인 구성\n",
    "qa_chain = RetrievalQA.from_chain_type(\n",
    "    llm=llm,\n",
    "    retriever=vectorstore.as_retriever(),\n",
    "    return_source_documents=True\n",
    ")\n",
    "\n",
    "# 6. 질문하기\n",
    "query = \"이논문에서 중요한 부분을 뽑아서 한국말로 번역해줘\"\n",
    "result = qa_chain.invoke({\"query\": query})\n",
    "\n",
    "# 7. 출력\n",
    "print(\"[답변]\")\n",
    "print(result[\"result\"])\n",
    "\n",
    "print(\"\\n[참고한 문서 일부]\")\n",
    "for i, doc in enumerate(result[\"source_documents\"][:2]):\n",
    "    print(f\"\\n- 문서 {i+1} (페이지 {doc.metadata.get('page', '?')}):\\n\")\n",
    "    print(doc.page_content[:300])\n"
   ]
  },
  {
   "cell_type": "code",
   "execution_count": null,
   "id": "4cc1ee1d-7da3-4f5d-b607-3e7631d14ee3",
   "metadata": {},
   "outputs": [],
   "source": []
  },
  {
   "cell_type": "code",
   "execution_count": null,
   "id": "9a8583c7-a7dc-421d-afeb-75a1e29315e7",
   "metadata": {},
   "outputs": [],
   "source": []
  }
 ],
 "metadata": {
  "kernelspec": {
   "display_name": "Python 3 (ipykernel)",
   "language": "python",
   "name": "python3"
  },
  "language_info": {
   "codemirror_mode": {
    "name": "ipython",
    "version": 3
   },
   "file_extension": ".py",
   "mimetype": "text/x-python",
   "name": "python",
   "nbconvert_exporter": "python",
   "pygments_lexer": "ipython3",
   "version": "3.12.7"
  }
 },
 "nbformat": 4,
 "nbformat_minor": 5
}
